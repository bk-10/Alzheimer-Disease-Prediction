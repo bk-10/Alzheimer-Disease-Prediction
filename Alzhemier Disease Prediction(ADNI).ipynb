{
 "cells": [
  {
   "cell_type": "code",
   "execution_count": 1,
   "metadata": {},
   "outputs": [
    {
     "name": "stderr",
     "output_type": "stream",
     "text": [
      "Using TensorFlow backend.\n"
     ]
    }
   ],
   "source": [
    "%matplotlib inline\n",
    "import keras\n",
    "import glob\n",
    "import seaborn as sns\n",
    "import pandas as pd\n",
    "import numpy as np\n",
    "import timeit\n",
    "import time\n",
    "import matplotlib.pyplot as plt\n",
    "import matplotlib.patches as patches\n",
    "import matplotlib as mpl # Plotting stuff\n",
    "\n",
    "\n",
    "\n",
    "\n",
    "\n"
   ]
  },
  {
   "cell_type": "code",
   "execution_count": 64,
   "metadata": {},
   "outputs": [],
   "source": [
    "data=pd.read_csv('ADNI_Training_Q3_APOE_CollectionADNI1Complete 1Yr 1.5T_July22.2014.csv')"
   ]
  },
  {
   "cell_type": "code",
   "execution_count": 63,
   "metadata": {
    "scrolled": true
   },
   "outputs": [
    {
     "data": {
      "text/html": [
       "<div>\n",
       "<style scoped>\n",
       "    .dataframe tbody tr th:only-of-type {\n",
       "        vertical-align: middle;\n",
       "    }\n",
       "\n",
       "    .dataframe tbody tr th {\n",
       "        vertical-align: top;\n",
       "    }\n",
       "\n",
       "    .dataframe thead th {\n",
       "        text-align: right;\n",
       "    }\n",
       "</style>\n",
       "<table border=\"1\" class=\"dataframe\">\n",
       "  <thead>\n",
       "    <tr style=\"text-align: right;\">\n",
       "      <th></th>\n",
       "      <th>directory.id</th>\n",
       "      <th>Subject</th>\n",
       "      <th>RID</th>\n",
       "      <th>Image.Data.ID</th>\n",
       "      <th>Modality</th>\n",
       "      <th>Visit</th>\n",
       "      <th>Acq.Date</th>\n",
       "      <th>DX.bl</th>\n",
       "      <th>EXAMDATE</th>\n",
       "      <th>AGE</th>\n",
       "      <th>PTGENDER</th>\n",
       "      <th>PTEDUCAT</th>\n",
       "      <th>PTETHCAT</th>\n",
       "      <th>PTRACCAT</th>\n",
       "      <th>APOE4</th>\n",
       "      <th>MMSE</th>\n",
       "      <th>imputed_genotype</th>\n",
       "      <th>APOE Genotype</th>\n",
       "      <th>Dx Codes for Submission</th>\n",
       "    </tr>\n",
       "  </thead>\n",
       "  <tbody>\n",
       "    <tr>\n",
       "      <th>0</th>\n",
       "      <td>4702245ea294ce5d4e9b8a87027dfdf4</td>\n",
       "      <td>011_S_0003</td>\n",
       "      <td>3</td>\n",
       "      <td>32237</td>\n",
       "      <td>MRI</td>\n",
       "      <td>1</td>\n",
       "      <td>9/1/05</td>\n",
       "      <td>AD</td>\n",
       "      <td>9/12/05</td>\n",
       "      <td>81.3</td>\n",
       "      <td>Male</td>\n",
       "      <td>18</td>\n",
       "      <td>Not Hisp/Latino</td>\n",
       "      <td>White</td>\n",
       "      <td>1</td>\n",
       "      <td>20</td>\n",
       "      <td>True</td>\n",
       "      <td>3,4</td>\n",
       "      <td>AD</td>\n",
       "    </tr>\n",
       "    <tr>\n",
       "      <th>1</th>\n",
       "      <td>2e89e352af743597b2368c412e0f6de2</td>\n",
       "      <td>022_S_0004</td>\n",
       "      <td>4</td>\n",
       "      <td>64631</td>\n",
       "      <td>MRI</td>\n",
       "      <td>1</td>\n",
       "      <td>9/22/05</td>\n",
       "      <td>LMCI</td>\n",
       "      <td>11/8/05</td>\n",
       "      <td>67.5</td>\n",
       "      <td>Male</td>\n",
       "      <td>10</td>\n",
       "      <td>Hisp/Latino</td>\n",
       "      <td>White</td>\n",
       "      <td>0</td>\n",
       "      <td>27</td>\n",
       "      <td>False</td>\n",
       "      <td>3,3</td>\n",
       "      <td>MCI</td>\n",
       "    </tr>\n",
       "    <tr>\n",
       "      <th>2</th>\n",
       "      <td>90419199306997753de8042f1fd55e38</td>\n",
       "      <td>011_S_0005</td>\n",
       "      <td>5</td>\n",
       "      <td>32246</td>\n",
       "      <td>MRI</td>\n",
       "      <td>1</td>\n",
       "      <td>9/2/05</td>\n",
       "      <td>CN</td>\n",
       "      <td>9/7/05</td>\n",
       "      <td>73.7</td>\n",
       "      <td>Male</td>\n",
       "      <td>16</td>\n",
       "      <td>Not Hisp/Latino</td>\n",
       "      <td>White</td>\n",
       "      <td>0</td>\n",
       "      <td>29</td>\n",
       "      <td>True</td>\n",
       "      <td>3,3</td>\n",
       "      <td>CN</td>\n",
       "    </tr>\n",
       "    <tr>\n",
       "      <th>3</th>\n",
       "      <td>d8d175ffff1e2053e6a18c5df494ccdf</td>\n",
       "      <td>100_S_0006</td>\n",
       "      <td>6</td>\n",
       "      <td>33025</td>\n",
       "      <td>MRI</td>\n",
       "      <td>1</td>\n",
       "      <td>11/15/05</td>\n",
       "      <td>LMCI</td>\n",
       "      <td>11/29/05</td>\n",
       "      <td>80.4</td>\n",
       "      <td>Female</td>\n",
       "      <td>13</td>\n",
       "      <td>Not Hisp/Latino</td>\n",
       "      <td>White</td>\n",
       "      <td>0</td>\n",
       "      <td>25</td>\n",
       "      <td>True</td>\n",
       "      <td>3,3</td>\n",
       "      <td>MCI</td>\n",
       "    </tr>\n",
       "    <tr>\n",
       "      <th>4</th>\n",
       "      <td>986e75b2e604cd44b38feb2188476fb2</td>\n",
       "      <td>011_S_0010</td>\n",
       "      <td>10</td>\n",
       "      <td>32270</td>\n",
       "      <td>MRI</td>\n",
       "      <td>1</td>\n",
       "      <td>11/7/05</td>\n",
       "      <td>AD</td>\n",
       "      <td>11/10/05</td>\n",
       "      <td>73.9</td>\n",
       "      <td>Female</td>\n",
       "      <td>12</td>\n",
       "      <td>Not Hisp/Latino</td>\n",
       "      <td>White</td>\n",
       "      <td>1</td>\n",
       "      <td>24</td>\n",
       "      <td>True</td>\n",
       "      <td>3,4</td>\n",
       "      <td>AD</td>\n",
       "    </tr>\n",
       "  </tbody>\n",
       "</table>\n",
       "</div>"
      ],
      "text/plain": [
       "                       directory.id     Subject  RID  Image.Data.ID Modality  \\\n",
       "0  4702245ea294ce5d4e9b8a87027dfdf4  011_S_0003    3          32237      MRI   \n",
       "1  2e89e352af743597b2368c412e0f6de2  022_S_0004    4          64631      MRI   \n",
       "2  90419199306997753de8042f1fd55e38  011_S_0005    5          32246      MRI   \n",
       "3  d8d175ffff1e2053e6a18c5df494ccdf  100_S_0006    6          33025      MRI   \n",
       "4  986e75b2e604cd44b38feb2188476fb2  011_S_0010   10          32270      MRI   \n",
       "\n",
       "   Visit  Acq.Date DX.bl  EXAMDATE   AGE PTGENDER  PTEDUCAT         PTETHCAT  \\\n",
       "0      1    9/1/05    AD   9/12/05  81.3     Male        18  Not Hisp/Latino   \n",
       "1      1   9/22/05  LMCI   11/8/05  67.5     Male        10      Hisp/Latino   \n",
       "2      1    9/2/05    CN    9/7/05  73.7     Male        16  Not Hisp/Latino   \n",
       "3      1  11/15/05  LMCI  11/29/05  80.4   Female        13  Not Hisp/Latino   \n",
       "4      1   11/7/05    AD  11/10/05  73.9   Female        12  Not Hisp/Latino   \n",
       "\n",
       "  PTRACCAT  APOE4  MMSE imputed_genotype APOE Genotype Dx Codes for Submission  \n",
       "0    White      1    20             True           3,4                      AD  \n",
       "1    White      0    27            False           3,3                     MCI  \n",
       "2    White      0    29             True           3,3                      CN  \n",
       "3    White      0    25             True           3,3                     MCI  \n",
       "4    White      1    24             True           3,4                      AD  "
      ]
     },
     "execution_count": 63,
     "metadata": {},
     "output_type": "execute_result"
    }
   ],
   "source": [
    "data.head()"
   ]
  },
  {
   "cell_type": "code",
   "execution_count": 4,
   "metadata": {},
   "outputs": [],
   "source": [
    "data.drop(['directory.id','Image.Data.ID','Acq.Date','Visit','EXAMDATE','Dx Codes for Submission','Subject','Modality','APOE Genotype'],axis=1,inplace=True)"
   ]
  },
  {
   "cell_type": "raw",
   "metadata": {},
   "source": [
    "(data['Modality']=='MRI').count()"
   ]
  },
  {
   "cell_type": "code",
   "execution_count": 5,
   "metadata": {},
   "outputs": [
    {
     "data": {
      "text/plain": [
       "(628, 10)"
      ]
     },
     "execution_count": 5,
     "metadata": {},
     "output_type": "execute_result"
    }
   ],
   "source": [
    "data.shape"
   ]
  },
  {
   "cell_type": "code",
   "execution_count": 6,
   "metadata": {},
   "outputs": [],
   "source": [
    "data= data.fillna(method='ffill')\n"
   ]
  },
  {
   "cell_type": "code",
   "execution_count": 7,
   "metadata": {
    "scrolled": true
   },
   "outputs": [
    {
     "name": "stdout",
     "output_type": "stream",
     "text": [
      "<class 'pandas.core.frame.DataFrame'>\n",
      "RangeIndex: 628 entries, 0 to 627\n",
      "Data columns (total 10 columns):\n",
      "RID                 628 non-null int64\n",
      "DX.bl               628 non-null object\n",
      "AGE                 628 non-null float64\n",
      "PTGENDER            628 non-null object\n",
      "PTEDUCAT            628 non-null int64\n",
      "PTETHCAT            628 non-null object\n",
      "PTRACCAT            628 non-null object\n",
      "APOE4               628 non-null int64\n",
      "MMSE                628 non-null int64\n",
      "imputed_genotype    628 non-null bool\n",
      "dtypes: bool(1), float64(1), int64(4), object(4)\n",
      "memory usage: 44.8+ KB\n"
     ]
    }
   ],
   "source": [
    "data.info()"
   ]
  },
  {
   "cell_type": "code",
   "execution_count": 8,
   "metadata": {},
   "outputs": [
    {
     "name": "stdout",
     "output_type": "stream",
     "text": [
      "Populating the interactive namespace from numpy and matplotlib\n"
     ]
    },
    {
     "ename": "KeyError",
     "evalue": "\"['APOE Genotype'] not in index\"",
     "output_type": "error",
     "traceback": [
      "\u001b[0;31m---------------------------------------------------------------------------\u001b[0m",
      "\u001b[0;31mKeyError\u001b[0m                                  Traceback (most recent call last)",
      "\u001b[0;32m<ipython-input-8-ed96a8e4cb47>\u001b[0m in \u001b[0;36m<module>\u001b[0;34m()\u001b[0m\n\u001b[1;32m      6\u001b[0m \u001b[0mcols\u001b[0m \u001b[0;34m=\u001b[0m \u001b[0;34m[\u001b[0m\u001b[0;34m'RID'\u001b[0m\u001b[0;34m,\u001b[0m\u001b[0;34m'DX.bl'\u001b[0m\u001b[0;34m,\u001b[0m \u001b[0;34m'AGE'\u001b[0m\u001b[0;34m,\u001b[0m \u001b[0;34m'PTGENDER'\u001b[0m\u001b[0;34m,\u001b[0m \u001b[0;34m'PTETHCAT'\u001b[0m\u001b[0;34m,\u001b[0m \u001b[0;34m'MMSE'\u001b[0m\u001b[0;34m,\u001b[0m\u001b[0;34m'imputed_genotype'\u001b[0m\u001b[0;34m,\u001b[0m\u001b[0;34m'APOE Genotype'\u001b[0m\u001b[0;34m]\u001b[0m\u001b[0;34m\u001b[0m\u001b[0m\n\u001b[1;32m      7\u001b[0m \u001b[0mx\u001b[0m\u001b[0;34m=\u001b[0m\u001b[0mdata\u001b[0m\u001b[0;34m.\u001b[0m\u001b[0mfillna\u001b[0m\u001b[0;34m(\u001b[0m\u001b[0;34m''\u001b[0m\u001b[0;34m)\u001b[0m\u001b[0;34m\u001b[0m\u001b[0m\n\u001b[0;32m----> 8\u001b[0;31m \u001b[0msns_plot\u001b[0m \u001b[0;34m=\u001b[0m \u001b[0msns\u001b[0m\u001b[0;34m.\u001b[0m\u001b[0mpairplot\u001b[0m\u001b[0;34m(\u001b[0m\u001b[0mx\u001b[0m\u001b[0;34m[\u001b[0m\u001b[0mcols\u001b[0m\u001b[0;34m]\u001b[0m\u001b[0;34m)\u001b[0m\u001b[0;34m\u001b[0m\u001b[0m\n\u001b[0m",
      "\u001b[0;32m/usr/local/lib/python3.5/dist-packages/pandas/core/frame.py\u001b[0m in \u001b[0;36m__getitem__\u001b[0;34m(self, key)\u001b[0m\n\u001b[1;32m   2131\u001b[0m         \u001b[0;32mif\u001b[0m \u001b[0misinstance\u001b[0m\u001b[0;34m(\u001b[0m\u001b[0mkey\u001b[0m\u001b[0;34m,\u001b[0m \u001b[0;34m(\u001b[0m\u001b[0mSeries\u001b[0m\u001b[0;34m,\u001b[0m \u001b[0mnp\u001b[0m\u001b[0;34m.\u001b[0m\u001b[0mndarray\u001b[0m\u001b[0;34m,\u001b[0m \u001b[0mIndex\u001b[0m\u001b[0;34m,\u001b[0m \u001b[0mlist\u001b[0m\u001b[0;34m)\u001b[0m\u001b[0;34m)\u001b[0m\u001b[0;34m:\u001b[0m\u001b[0;34m\u001b[0m\u001b[0m\n\u001b[1;32m   2132\u001b[0m             \u001b[0;31m# either boolean or fancy integer index\u001b[0m\u001b[0;34m\u001b[0m\u001b[0;34m\u001b[0m\u001b[0m\n\u001b[0;32m-> 2133\u001b[0;31m             \u001b[0;32mreturn\u001b[0m \u001b[0mself\u001b[0m\u001b[0;34m.\u001b[0m\u001b[0m_getitem_array\u001b[0m\u001b[0;34m(\u001b[0m\u001b[0mkey\u001b[0m\u001b[0;34m)\u001b[0m\u001b[0;34m\u001b[0m\u001b[0m\n\u001b[0m\u001b[1;32m   2134\u001b[0m         \u001b[0;32melif\u001b[0m \u001b[0misinstance\u001b[0m\u001b[0;34m(\u001b[0m\u001b[0mkey\u001b[0m\u001b[0;34m,\u001b[0m \u001b[0mDataFrame\u001b[0m\u001b[0;34m)\u001b[0m\u001b[0;34m:\u001b[0m\u001b[0;34m\u001b[0m\u001b[0m\n\u001b[1;32m   2135\u001b[0m             \u001b[0;32mreturn\u001b[0m \u001b[0mself\u001b[0m\u001b[0;34m.\u001b[0m\u001b[0m_getitem_frame\u001b[0m\u001b[0;34m(\u001b[0m\u001b[0mkey\u001b[0m\u001b[0;34m)\u001b[0m\u001b[0;34m\u001b[0m\u001b[0m\n",
      "\u001b[0;32m/usr/local/lib/python3.5/dist-packages/pandas/core/frame.py\u001b[0m in \u001b[0;36m_getitem_array\u001b[0;34m(self, key)\u001b[0m\n\u001b[1;32m   2175\u001b[0m             \u001b[0;32mreturn\u001b[0m \u001b[0mself\u001b[0m\u001b[0;34m.\u001b[0m\u001b[0m_take\u001b[0m\u001b[0;34m(\u001b[0m\u001b[0mindexer\u001b[0m\u001b[0;34m,\u001b[0m \u001b[0maxis\u001b[0m\u001b[0;34m=\u001b[0m\u001b[0;36m0\u001b[0m\u001b[0;34m,\u001b[0m \u001b[0mconvert\u001b[0m\u001b[0;34m=\u001b[0m\u001b[0;32mFalse\u001b[0m\u001b[0;34m)\u001b[0m\u001b[0;34m\u001b[0m\u001b[0m\n\u001b[1;32m   2176\u001b[0m         \u001b[0;32melse\u001b[0m\u001b[0;34m:\u001b[0m\u001b[0;34m\u001b[0m\u001b[0m\n\u001b[0;32m-> 2177\u001b[0;31m             \u001b[0mindexer\u001b[0m \u001b[0;34m=\u001b[0m \u001b[0mself\u001b[0m\u001b[0;34m.\u001b[0m\u001b[0mloc\u001b[0m\u001b[0;34m.\u001b[0m\u001b[0m_convert_to_indexer\u001b[0m\u001b[0;34m(\u001b[0m\u001b[0mkey\u001b[0m\u001b[0;34m,\u001b[0m \u001b[0maxis\u001b[0m\u001b[0;34m=\u001b[0m\u001b[0;36m1\u001b[0m\u001b[0;34m)\u001b[0m\u001b[0;34m\u001b[0m\u001b[0m\n\u001b[0m\u001b[1;32m   2178\u001b[0m             \u001b[0;32mreturn\u001b[0m \u001b[0mself\u001b[0m\u001b[0;34m.\u001b[0m\u001b[0m_take\u001b[0m\u001b[0;34m(\u001b[0m\u001b[0mindexer\u001b[0m\u001b[0;34m,\u001b[0m \u001b[0maxis\u001b[0m\u001b[0;34m=\u001b[0m\u001b[0;36m1\u001b[0m\u001b[0;34m,\u001b[0m \u001b[0mconvert\u001b[0m\u001b[0;34m=\u001b[0m\u001b[0;32mTrue\u001b[0m\u001b[0;34m)\u001b[0m\u001b[0;34m\u001b[0m\u001b[0m\n\u001b[1;32m   2179\u001b[0m \u001b[0;34m\u001b[0m\u001b[0m\n",
      "\u001b[0;32m/usr/local/lib/python3.5/dist-packages/pandas/core/indexing.py\u001b[0m in \u001b[0;36m_convert_to_indexer\u001b[0;34m(self, obj, axis, is_setter)\u001b[0m\n\u001b[1;32m   1267\u001b[0m                 \u001b[0;32mif\u001b[0m \u001b[0mmask\u001b[0m\u001b[0;34m.\u001b[0m\u001b[0many\u001b[0m\u001b[0;34m(\u001b[0m\u001b[0;34m)\u001b[0m\u001b[0;34m:\u001b[0m\u001b[0;34m\u001b[0m\u001b[0m\n\u001b[1;32m   1268\u001b[0m                     raise KeyError('{mask} not in index'\n\u001b[0;32m-> 1269\u001b[0;31m                                    .format(mask=objarr[mask]))\n\u001b[0m\u001b[1;32m   1270\u001b[0m \u001b[0;34m\u001b[0m\u001b[0m\n\u001b[1;32m   1271\u001b[0m                 \u001b[0;32mreturn\u001b[0m \u001b[0m_values_from_object\u001b[0m\u001b[0;34m(\u001b[0m\u001b[0mindexer\u001b[0m\u001b[0;34m)\u001b[0m\u001b[0;34m\u001b[0m\u001b[0m\n",
      "\u001b[0;31mKeyError\u001b[0m: \"['APOE Genotype'] not in index\""
     ]
    }
   ],
   "source": [
    "%pylab inline\n",
    "#lets plot some graphics from the first dataset\n",
    "\n",
    "from pylab import rcParams\n",
    "rcParams['figure.figsize'] = 8, 5\n",
    "cols = ['RID','DX.bl', 'AGE', 'PTGENDER', 'PTETHCAT', 'MMSE','imputed_genotype','APOE Genotype']\n",
    "x=data.fillna('')\n",
    "sns_plot = sns.pairplot(x[cols])"
   ]
  },
  {
   "cell_type": "code",
   "execution_count": 9,
   "metadata": {
    "scrolled": false
   },
   "outputs": [
    {
     "data": {
      "text/plain": [
       "<matplotlib.axes._subplots.AxesSubplot at 0x7f1fc772ba20>"
      ]
     },
     "execution_count": 9,
     "metadata": {},
     "output_type": "execute_result"
    },
    {
     "data": {
      "image/png": "[encoded data removed]",
      "text/plain": [
       "<matplotlib.figure.Figure at 0x7f1fc772b198>"
      ]
     },
     "metadata": {},
     "output_type": "display_data"
    }
   ],
   "source": [
    "#lets plot correleation matrix\n",
    "corr_matrix =data.corr()\n",
    "rcParams['figure.figsize'] = 15, 10\n",
    "sns.heatmap(corr_matrix)"
   ]
  },
  {
   "cell_type": "code",
   "execution_count": 10,
   "metadata": {},
   "outputs": [
    {
     "data": {
      "text/plain": [
       "([<matplotlib.axis.XTick at 0x7f1fc5374240>,\n",
       "  <matplotlib.axis.XTick at 0x7f1fc788edd8>,\n",
       "  <matplotlib.axis.XTick at 0x7f1fc537f940>,\n",
       "  <matplotlib.axis.XTick at 0x7f1fc7832940>,\n",
       "  <matplotlib.axis.XTick at 0x7f1fc7832fd0>,\n",
       "  <matplotlib.axis.XTick at 0x7f1fc782d6a0>,\n",
       "  <matplotlib.axis.XTick at 0x7f1fc782dd30>,\n",
       "  <matplotlib.axis.XTick at 0x7f1fc7829400>,\n",
       "  <matplotlib.axis.XTick at 0x7f1fc7829a90>,\n",
       "  <matplotlib.axis.XTick at 0x7f1fc7825160>],\n",
       " <a list of 10 Text xticklabel objects>)"
      ]
     },
     "execution_count": 10,
     "metadata": {},
     "output_type": "execute_result"
    },
    {
     "data": {
      "image/png": "[encoded data removed]",
      "text/plain": [
       "<matplotlib.figure.Figure at 0x7f1fc788e518>"
      ]
     },
     "metadata": {},
     "output_type": "display_data"
    }
   ],
   "source": [
    "xticks(np.arange(0, 100, step=10))"
   ]
  },
  {
   "cell_type": "code",
   "execution_count": 14,
   "metadata": {},
   "outputs": [
    {
     "data": {
      "text/plain": [
       "<matplotlib.legend.Legend at 0x7f1fc3c63630>"
      ]
     },
     "execution_count": 14,
     "metadata": {},
     "output_type": "execute_result"
    },
    {
     "data": {
      "image/png": "[encoded data removed]",
      "text/plain": [
       "<matplotlib.figure.Figure at 0x7f1fc3c98978>"
      ]
     },
     "metadata": {},
     "output_type": "display_data"
    }
   ],
   "source": [
    "plt.figure(figsize=(50,10))\n",
    "plt.scatter(data['AGE'],data['APOE4'],label='Age vs Disease',color='r')\n",
    "# plt.bar(data['PTGENDER'],data['APOE4'],label='Gender vs Disease',width=0.8)\n",
    "plt.ylabel('Alzheimer')\n",
    "plt.xlabel('AGE',fontsize='large',color='y')\n",
    "plt.xticks(np.arange(50, 100, step=10),color='y')\n",
    "plt.yticks(np.arange(0, 1, step=0.9))\n",
    "plt.title('Age vs Alzheimer')\n",
    "plt.legend()"
   ]
  },
  {
   "cell_type": "code",
   "execution_count": 65,
   "metadata": {
    "_cell_guid": "586e6b82-a3c4-4490-9426-1e70191c4491",
    "_uuid": "6a73c282acd404016abfe3d2e4164d3ff5e0f371"
   },
   "outputs": [],
   "source": [
    "from sklearn.preprocessing import LabelEncoder\n",
    "from sklearn.cross_validation import train_test_split\n",
    "for x in data.columns:\n",
    "    f = LabelEncoder()\n",
    "    data[x] = f.fit_transform(data[x])"
   ]
  },
  {
   "cell_type": "code",
   "execution_count": 16,
   "metadata": {},
   "outputs": [
    {
     "ename": "SyntaxError",
     "evalue": "invalid syntax (<ipython-input-16-1f98b654b7e3>, line 1)",
     "output_type": "error",
     "traceback": [
      "\u001b[0;36m  File \u001b[0;32m\"<ipython-input-16-1f98b654b7e3>\"\u001b[0;36m, line \u001b[0;32m1\u001b[0m\n\u001b[0;31m    (data[int('APOE4')>1]=data['APOE4']\u001b[0m\n\u001b[0m                         ^\u001b[0m\n\u001b[0;31mSyntaxError\u001b[0m\u001b[0;31m:\u001b[0m invalid syntax\n"
     ]
    }
   ],
   "source": [
    "(data[int('APOE4')>1]=data['APOE4']\n"
   ]
  },
  {
   "cell_type": "code",
   "execution_count": 17,
   "metadata": {
    "_cell_guid": "b695d43e-09d6-424b-811d-246b5d6225b7",
    "_uuid": "85cfb4715d89b5c3c3d6cb95030b851ef92835f6",
    "scrolled": false
   },
   "outputs": [
    {
     "data": {
      "text/html": [
       "<div>\n",
       "<style scoped>\n",
       "    .dataframe tbody tr th:only-of-type {\n",
       "        vertical-align: middle;\n",
       "    }\n",
       "\n",
       "    .dataframe tbody tr th {\n",
       "        vertical-align: top;\n",
       "    }\n",
       "\n",
       "    .dataframe thead th {\n",
       "        text-align: right;\n",
       "    }\n",
       "</style>\n",
       "<table border=\"1\" class=\"dataframe\">\n",
       "  <thead>\n",
       "    <tr style=\"text-align: right;\">\n",
       "      <th></th>\n",
       "      <th>RID</th>\n",
       "      <th>DX.bl</th>\n",
       "      <th>AGE</th>\n",
       "      <th>PTGENDER</th>\n",
       "      <th>PTEDUCAT</th>\n",
       "      <th>PTETHCAT</th>\n",
       "      <th>PTRACCAT</th>\n",
       "      <th>APOE4</th>\n",
       "      <th>MMSE</th>\n",
       "      <th>imputed_genotype</th>\n",
       "    </tr>\n",
       "  </thead>\n",
       "  <tbody>\n",
       "    <tr>\n",
       "      <th>0</th>\n",
       "      <td>0</td>\n",
       "      <td>0</td>\n",
       "      <td>183</td>\n",
       "      <td>1</td>\n",
       "      <td>12</td>\n",
       "      <td>1</td>\n",
       "      <td>2</td>\n",
       "      <td>1</td>\n",
       "      <td>0</td>\n",
       "      <td>1</td>\n",
       "    </tr>\n",
       "    <tr>\n",
       "      <th>1</th>\n",
       "      <td>1</td>\n",
       "      <td>2</td>\n",
       "      <td>53</td>\n",
       "      <td>1</td>\n",
       "      <td>4</td>\n",
       "      <td>0</td>\n",
       "      <td>2</td>\n",
       "      <td>0</td>\n",
       "      <td>7</td>\n",
       "      <td>0</td>\n",
       "    </tr>\n",
       "    <tr>\n",
       "      <th>2</th>\n",
       "      <td>2</td>\n",
       "      <td>1</td>\n",
       "      <td>109</td>\n",
       "      <td>1</td>\n",
       "      <td>10</td>\n",
       "      <td>1</td>\n",
       "      <td>2</td>\n",
       "      <td>0</td>\n",
       "      <td>9</td>\n",
       "      <td>1</td>\n",
       "    </tr>\n",
       "    <tr>\n",
       "      <th>3</th>\n",
       "      <td>3</td>\n",
       "      <td>2</td>\n",
       "      <td>174</td>\n",
       "      <td>0</td>\n",
       "      <td>7</td>\n",
       "      <td>1</td>\n",
       "      <td>2</td>\n",
       "      <td>0</td>\n",
       "      <td>5</td>\n",
       "      <td>1</td>\n",
       "    </tr>\n",
       "    <tr>\n",
       "      <th>4</th>\n",
       "      <td>4</td>\n",
       "      <td>0</td>\n",
       "      <td>111</td>\n",
       "      <td>0</td>\n",
       "      <td>6</td>\n",
       "      <td>1</td>\n",
       "      <td>2</td>\n",
       "      <td>1</td>\n",
       "      <td>4</td>\n",
       "      <td>1</td>\n",
       "    </tr>\n",
       "  </tbody>\n",
       "</table>\n",
       "</div>"
      ],
      "text/plain": [
       "   RID  DX.bl  AGE  PTGENDER  PTEDUCAT  PTETHCAT  PTRACCAT  APOE4  MMSE  \\\n",
       "0    0      0  183         1        12         1         2      1     0   \n",
       "1    1      2   53         1         4         0         2      0     7   \n",
       "2    2      1  109         1        10         1         2      0     9   \n",
       "3    3      2  174         0         7         1         2      0     5   \n",
       "4    4      0  111         0         6         1         2      1     4   \n",
       "\n",
       "   imputed_genotype  \n",
       "0                 1  \n",
       "1                 0  \n",
       "2                 1  \n",
       "3                 1  \n",
       "4                 1  "
      ]
     },
     "execution_count": 17,
     "metadata": {},
     "output_type": "execute_result"
    }
   ],
   "source": [
    "data.head()"
   ]
  },
  {
   "cell_type": "markdown",
   "metadata": {
    "_cell_guid": "896c75fa-69b1-45a5-8e95-ac9f696f08aa",
    "_uuid": "6b4522a821ede5b0cbaab4e10ada2335bdafd853"
   },
   "source": [
    "# Lets begin some machine learning"
   ]
  },
  {
   "cell_type": "code",
   "execution_count": 66,
   "metadata": {
    "_cell_guid": "333e53bb-a8a3-4856-a5be-0111c218b9d1",
    "_uuid": "70703d344c8ea04544772841acd9e1c0a2e449a5"
   },
   "outputs": [],
   "source": [
    "train, test = train_test_split(data, test_size=0.3)"
   ]
  },
  {
   "cell_type": "code",
   "execution_count": 19,
   "metadata": {
    "_cell_guid": "650c0c98-6e9d-45e7-9158-2f905af1e62f",
    "_uuid": "fa98dfba5c02038c52333fd8c640e0676d47b3c4"
   },
   "outputs": [],
   "source": [
    "X_train = train[['RID','DX.bl','AGE','PTGENDER','PTEDUCAT','PTETHCAT','PTRACCAT','MMSE','imputed_genotype']]\n",
    "y_train = train.APOE4\n",
    "X_test = test[['RID','DX.bl','AGE','PTGENDER','PTEDUCAT','PTETHCAT','PTRACCAT','MMSE','imputed_genotype']]\n",
    "y_test = test.APOE4"
   ]
  },
  {
   "cell_type": "markdown",
   "metadata": {},
   "source": [
    "###  Standardizing data set"
   ]
  },
  {
   "cell_type": "code",
   "execution_count": 20,
   "metadata": {
    "_cell_guid": "ac0c330e-c547-4c2c-a6e0-05ce3dbeff1a",
    "_uuid": "2e668544d58ce4a2b203b2d115072d8ecf2a5cda"
   },
   "outputs": [],
   "source": [
    "# Import `StandardScaler` from `sklearn.preprocessing`\n",
    "from sklearn.preprocessing import StandardScaler\n",
    "\n",
    "# Define the scaler \n",
    "scaler = StandardScaler().fit(X_train)\n",
    "\n",
    "# Scale the train set\n",
    "X_train = scaler.transform(X_train)\n",
    "\n",
    "# Scale the test set\n",
    "X_test = scaler.transform(X_test)"
   ]
  },
  {
   "cell_type": "code",
   "execution_count": 21,
   "metadata": {
    "_cell_guid": "f1a2371b-e373-4402-88d3-5c7ecf2d25bd",
    "_uuid": "acafe6708ab686ca9f11d57f3f154ef0937c8779"
   },
   "outputs": [],
   "source": [
    "y_train=np.ravel(y_train)\n",
    "X_train=np.asarray(X_train)\n",
    "\n",
    "y_test=np.ravel(y_test)\n",
    "X_test=np.asarray(X_test)\n"
   ]
  },
  {
   "cell_type": "code",
   "execution_count": 22,
   "metadata": {},
   "outputs": [
    {
     "ename": "IndexError",
     "evalue": "only integers, slices (`:`), ellipsis (`...`), numpy.newaxis (`None`) and integer or boolean arrays are valid indices",
     "output_type": "error",
     "traceback": [
      "\u001b[0;31m---------------------------------------------------------------------------\u001b[0m",
      "\u001b[0;31mIndexError\u001b[0m                                Traceback (most recent call last)",
      "\u001b[0;32m<ipython-input-22-bab936b1a8b9>\u001b[0m in \u001b[0;36m<module>\u001b[0;34m()\u001b[0m\n\u001b[1;32m      1\u001b[0m \u001b[0;31m# plt.figure(figsize=(1,1))\u001b[0m\u001b[0;34m\u001b[0m\u001b[0;34m\u001b[0m\u001b[0m\n\u001b[0;32m----> 2\u001b[0;31m \u001b[0mplt\u001b[0m\u001b[0;34m.\u001b[0m\u001b[0mscatter\u001b[0m\u001b[0;34m(\u001b[0m\u001b[0mtrain\u001b[0m\u001b[0;34m[\u001b[0m\u001b[0;34m'APOE4'\u001b[0m\u001b[0;34m]\u001b[0m\u001b[0;34m,\u001b[0m\u001b[0my_train\u001b[0m\u001b[0;34m[\u001b[0m\u001b[0;34m'PTGENDER'\u001b[0m\u001b[0;34m]\u001b[0m\u001b[0;34m,\u001b[0m\u001b[0mlabel\u001b[0m\u001b[0;34m=\u001b[0m\u001b[0;34m'Gender vs Disease'\u001b[0m\u001b[0;34m)\u001b[0m\u001b[0;34m\u001b[0m\u001b[0m\n\u001b[0m\u001b[1;32m      3\u001b[0m \u001b[0;31m# plt.bar(data['PTGENDER'],data['APOE4'],label='Gender vs Disease',width=0.8)\u001b[0m\u001b[0;34m\u001b[0m\u001b[0;34m\u001b[0m\u001b[0m\n\u001b[1;32m      4\u001b[0m \u001b[0mplt\u001b[0m\u001b[0;34m.\u001b[0m\u001b[0mxlabel\u001b[0m\u001b[0;34m(\u001b[0m\u001b[0;34m'Alzheimer'\u001b[0m\u001b[0;34m)\u001b[0m\u001b[0;34m\u001b[0m\u001b[0m\n\u001b[1;32m      5\u001b[0m \u001b[0mplt\u001b[0m\u001b[0;34m.\u001b[0m\u001b[0mylabel\u001b[0m\u001b[0;34m(\u001b[0m\u001b[0;34m'Gender'\u001b[0m\u001b[0;34m,\u001b[0m\u001b[0mfontsize\u001b[0m\u001b[0;34m=\u001b[0m\u001b[0;34m'large'\u001b[0m\u001b[0;34m)\u001b[0m\u001b[0;34m\u001b[0m\u001b[0m\n",
      "\u001b[0;31mIndexError\u001b[0m: only integers, slices (`:`), ellipsis (`...`), numpy.newaxis (`None`) and integer or boolean arrays are valid indices"
     ]
    }
   ],
   "source": [
    "# plt.figure(figsize=(1,1))\n",
    "plt.scatter(train['APOE4'],y_train['PTGENDER'],label='Gender vs Disease')\n",
    "# plt.bar(data['PTGENDER'],data['APOE4'],label='Gender vs Disease',width=0.8)\n",
    "plt.xlabel('Alzheimer')\n",
    "plt.ylabel('Gender',fontsize='large')\n",
    "plt.xticks(np.arange(50, 100, step=10))\n",
    "plt.yticks(np.arange(0, 1, step=0.9))\n",
    "plt.title('Age vs Alzheimer')\n",
    "plt.legend()"
   ]
  },
  {
   "cell_type": "markdown",
   "metadata": {},
   "source": [
    "#  So We're starting with Logistic Regression"
   ]
  },
  {
   "cell_type": "code",
   "execution_count": 23,
   "metadata": {
    "_cell_guid": "cc229161-b9aa-4368-ba60-cecdd0b202f0",
    "_uuid": "09563cacdf821f7995d33e0e1e257cbd36b02350"
   },
   "outputs": [],
   "source": [
    "from sklearn.linear_model import LogisticRegression\n",
    "classifier = LogisticRegression()\n",
    "classifier.fit(X_train, y_train)\n",
    "prediction = classifier.predict(X_test)"
   ]
  },
  {
   "cell_type": "code",
   "execution_count": 24,
   "metadata": {
    "_cell_guid": "b8189d8a-b147-4b63-9f1e-d81f9d174e6f",
    "_uuid": "a84ac22428eed53b0e19c8c858ee34409f260a8e"
   },
   "outputs": [
    {
     "data": {
      "text/plain": [
       "0.5291005291005291"
      ]
     },
     "execution_count": 24,
     "metadata": {},
     "output_type": "execute_result"
    }
   ],
   "source": [
    "classifier.score(X_test, y_test)"
   ]
  },
  {
   "cell_type": "code",
   "execution_count": 25,
   "metadata": {
    "_cell_guid": "300584fa-7232-486d-ba2a-c7c91081540b",
    "_uuid": "d5511f70baa6560c349abd137457c726bcc8155a"
   },
   "outputs": [
    {
     "data": {
      "text/plain": [
       "0.55125284738041"
      ]
     },
     "execution_count": 25,
     "metadata": {},
     "output_type": "execute_result"
    }
   ],
   "source": [
    "classifier.score(X_train, y_train)"
   ]
  },
  {
   "cell_type": "markdown",
   "metadata": {},
   "source": [
    "# Now we're trying Decision Trees"
   ]
  },
  {
   "cell_type": "code",
   "execution_count": 61,
   "metadata": {
    "_cell_guid": "00b25078-aa29-46bb-8200-680f3910b19f",
    "_uuid": "63daf9da6272e0a4cfd96332c4c27d966824e6be"
   },
   "outputs": [
    {
     "name": "stdout",
     "output_type": "stream",
     "text": [
      "0.5261958997722096\n",
      "0.5079365079365079\n"
     ]
    }
   ],
   "source": [
    "from sklearn.tree import DecisionTreeClassifier\n",
    "classifier = DecisionTreeClassifier(max_depth=1)\n",
    "classifier.fit(X_train, y_train)\n",
    "prediction = classifier.predict(X_test)\n",
    "print (classifier.score(X_train, y_train))\n",
    "print (classifier.score(X_test, y_test))"
   ]
  },
  {
   "cell_type": "markdown",
   "metadata": {},
   "source": [
    "# Now we're trying K Neighbors, with n:=2"
   ]
  },
  {
   "cell_type": "code",
   "execution_count": 27,
   "metadata": {
    "_cell_guid": "f45aab4a-84a2-41d5-bff9-426a10c23933",
    "_uuid": "cacd681540ce96f081fcb4d605cfe78e9ab08204",
    "scrolled": true
   },
   "outputs": [
    {
     "name": "stdout",
     "output_type": "stream",
     "text": [
      "0.7220956719817767\n",
      "0.5079365079365079\n"
     ]
    }
   ],
   "source": [
    "from sklearn.neighbors import KNeighborsClassifier\n",
    "knn = KNeighborsClassifier(n_neighbors=2)\n",
    "knn.fit(X_train, y_train)\n",
    "print(knn.score(X_train, y_train))\n",
    "prediction = knn.predict(X_test)\n",
    "print(knn.score(X_test, y_test))\n"
   ]
  },
  {
   "cell_type": "markdown",
   "metadata": {},
   "source": [
    "# Now we're trying Support Vector machine with poly kernel"
   ]
  },
  {
   "cell_type": "code",
   "execution_count": 41,
   "metadata": {
    "_cell_guid": "f7dc411b-3ec2-48df-beb3-c94a1a126295",
    "_uuid": "f8869f3b6ce6cac49fc29217046b98ed90dbefb7"
   },
   "outputs": [],
   "source": [
    "from sklearn.svm import SVC\n",
    "svc=SVC(kernel=\"poly\", C=0.001)\n",
    "svc.fit(X_train, y_train)\n",
    "prediction = svc.predict(X_test)"
   ]
  },
  {
   "cell_type": "code",
   "execution_count": 42,
   "metadata": {
    "_cell_guid": "b44b0b47-894b-4932-bfde-93672eaf00b6",
    "_uuid": "deb2b98e3667ccc3dbe1c54aa4f6e75beb273203"
   },
   "outputs": [
    {
     "data": {
      "text/plain": [
       "0.5079365079365079"
      ]
     },
     "execution_count": 42,
     "metadata": {},
     "output_type": "execute_result"
    }
   ],
   "source": [
    "svc.score(X_test, y_test)"
   ]
  },
  {
   "cell_type": "code",
   "execution_count": 43,
   "metadata": {
    "_cell_guid": "5df7095e-712a-4772-b43d-5f8a1d49bd94",
    "_uuid": "a25ece93bd467ba9dd7c51a4d884b2c25742161a"
   },
   "outputs": [
    {
     "data": {
      "text/plain": [
       "0.5170842824601367"
      ]
     },
     "execution_count": 43,
     "metadata": {},
     "output_type": "execute_result"
    }
   ],
   "source": [
    "svc.score(X_train, y_train)"
   ]
  },
  {
   "cell_type": "code",
   "execution_count": 31,
   "metadata": {
    "_cell_guid": "7fef7cb8-3069-4ce4-bb3c-dd31c7b4e1dc",
    "_uuid": "b5223cf204152c80a9c0b85e1ef14c7b48cfea58"
   },
   "outputs": [
    {
     "data": {
      "text/plain": [
       "(439, 9)"
      ]
     },
     "execution_count": 31,
     "metadata": {},
     "output_type": "execute_result"
    }
   ],
   "source": [
    "X_train.shape"
   ]
  },
  {
   "cell_type": "markdown",
   "metadata": {
    "_cell_guid": "26a64846-5507-4361-b940-eda4ac63f616",
    "_uuid": "b4d043d081ae1dff6d75da666876fc29a32c8b3f"
   },
   "source": [
    "## Now trying Deep neural network using TENSORFLOW"
   ]
  },
  {
   "cell_type": "code",
   "execution_count": 56,
   "metadata": {
    "_cell_guid": "92d8bed9-98b1-4235-a243-d088e0a17006",
    "_uuid": "33d0bcbd314c3ce1d5b9303dd2c0ce8b8269e99e",
    "scrolled": true
   },
   "outputs": [
    {
     "name": "stdout",
     "output_type": "stream",
     "text": [
      "INFO:tensorflow:Using default config.\n",
      "WARNING:tensorflow:Using temporary folder as model directory: /tmp/tmprv2rbgnb\n",
      "INFO:tensorflow:Using config: {'_num_worker_replicas': 1, '_save_checkpoints_secs': 600, '_model_dir': '/tmp/tmprv2rbgnb', '_is_chief': True, '_log_step_count_steps': 100, '_tf_random_seed': None, '_session_config': None, '_cluster_spec': <tensorflow.python.training.server_lib.ClusterSpec object at 0x7f1fc0c19c18>, '_service': None, '_master': '', '_task_id': 0, '_save_summary_steps': 100, '_keep_checkpoint_max': 5, '_keep_checkpoint_every_n_hours': 10000, '_save_checkpoints_steps': None, '_num_ps_replicas': 0, '_task_type': 'worker'}\n",
      "INFO:tensorflow:Create CheckpointSaverHook.\n",
      "INFO:tensorflow:Saving checkpoints for 1 into /tmp/tmprv2rbgnb/model.ckpt.\n",
      "INFO:tensorflow:step = 1, loss = 277.145\n",
      "INFO:tensorflow:global_step/sec: 547.754\n",
      "INFO:tensorflow:step = 101, loss = 91.2128 (0.183 sec)\n",
      "INFO:tensorflow:global_step/sec: 621.681\n",
      "INFO:tensorflow:step = 201, loss = 78.587585 (0.161 sec)\n",
      "INFO:tensorflow:global_step/sec: 611.798\n",
      "INFO:tensorflow:step = 301, loss = 71.98812 (0.164 sec)\n",
      "INFO:tensorflow:Saving checkpoints for 343 into /tmp/tmprv2rbgnb/model.ckpt.\n",
      "INFO:tensorflow:Loss for final step: 69.19205.\n",
      "INFO:tensorflow:Restoring parameters from /tmp/tmprv2rbgnb/model.ckpt-343\n",
      "Accuracy (sklearn): 0.449735\n",
      "INFO:tensorflow:Starting evaluation at 2018-03-31-15:41:11\n",
      "INFO:tensorflow:Restoring parameters from /tmp/tmprv2rbgnb/model.ckpt-343\n",
      "INFO:tensorflow:Finished evaluation at 2018-03-31-15:41:11\n",
      "INFO:tensorflow:Saving dict for global step 343: accuracy = 0.44973546, average_loss = 1.230112, global_step = 343, loss = 116.245575\n",
      "Accuracy (tensorflow): 0.449735\n"
     ]
    }
   ],
   "source": [
    "import tensorflow as tf\n",
    "from sklearn import metrics\n",
    "feature_x = 'x'  # Name of the input feature.\n",
    "feature_columns = [tf.feature_column.numeric_column(feature_x, shape=np.array(X_train).shape[1:])]\n",
    "\n",
    "classifier = tf.estimator.DNNClassifier(feature_columns=feature_columns, hidden_units=[20,20], n_classes=4)\n",
    "\n",
    "  # Training the network\n",
    "train_input_fn = tf.estimator.inputs.numpy_input_fn(x={feature_x: X_train}, y=y_train, num_epochs=100, shuffle=False)\n",
    "classifier.train(input_fn=train_input_fn, steps=1000)\n",
    "\n",
    "  # Predict.\n",
    "test_input_fn = tf.estimator.inputs.numpy_input_fn(x={feature_x: X_test}, y=y_test, num_epochs=1, shuffle=False)\n",
    "predictions = classifier.predict(input_fn=test_input_fn)\n",
    "y_predicted = np.array(list(p['class_ids'] for p in predictions))\n",
    "y_predicted = y_predicted.reshape(np.array(y_test).shape)\n",
    "\n",
    "  # Score with sklearn.\n",
    "score = metrics.accuracy_score(y_test, y_predicted)\n",
    "print('Accuracy (sklearn): {0:f}'.format(score))\n",
    "\n",
    "  # Score with tensorflow.\n",
    "scores = classifier.evaluate(input_fn=test_input_fn)\n",
    "print('Accuracy (tensorflow): {0:f}'.format(scores['accuracy']))\n"
   ]
  },
  {
   "cell_type": "code",
   "execution_count": 55,
   "metadata": {
    "scrolled": true
   },
   "outputs": [
    {
     "data": {
      "text/html": [
       "<div>\n",
       "<style scoped>\n",
       "    .dataframe tbody tr th:only-of-type {\n",
       "        vertical-align: middle;\n",
       "    }\n",
       "\n",
       "    .dataframe tbody tr th {\n",
       "        vertical-align: top;\n",
       "    }\n",
       "\n",
       "    .dataframe thead th {\n",
       "        text-align: right;\n",
       "    }\n",
       "</style>\n",
       "<table border=\"1\" class=\"dataframe\">\n",
       "  <thead>\n",
       "    <tr style=\"text-align: right;\">\n",
       "      <th></th>\n",
       "      <th>RID</th>\n",
       "      <th>DX.bl</th>\n",
       "      <th>AGE</th>\n",
       "      <th>PTGENDER</th>\n",
       "      <th>PTEDUCAT</th>\n",
       "      <th>PTETHCAT</th>\n",
       "      <th>PTRACCAT</th>\n",
       "      <th>APOE4</th>\n",
       "      <th>MMSE</th>\n",
       "      <th>imputed_genotype</th>\n",
       "    </tr>\n",
       "  </thead>\n",
       "  <tbody>\n",
       "    <tr>\n",
       "      <th>0</th>\n",
       "      <td>0</td>\n",
       "      <td>0</td>\n",
       "      <td>183</td>\n",
       "      <td>1</td>\n",
       "      <td>12</td>\n",
       "      <td>1</td>\n",
       "      <td>2</td>\n",
       "      <td>1</td>\n",
       "      <td>0</td>\n",
       "      <td>1</td>\n",
       "    </tr>\n",
       "    <tr>\n",
       "      <th>1</th>\n",
       "      <td>1</td>\n",
       "      <td>2</td>\n",
       "      <td>53</td>\n",
       "      <td>1</td>\n",
       "      <td>4</td>\n",
       "      <td>0</td>\n",
       "      <td>2</td>\n",
       "      <td>0</td>\n",
       "      <td>7</td>\n",
       "      <td>0</td>\n",
       "    </tr>\n",
       "    <tr>\n",
       "      <th>2</th>\n",
       "      <td>2</td>\n",
       "      <td>1</td>\n",
       "      <td>109</td>\n",
       "      <td>1</td>\n",
       "      <td>10</td>\n",
       "      <td>1</td>\n",
       "      <td>2</td>\n",
       "      <td>0</td>\n",
       "      <td>9</td>\n",
       "      <td>1</td>\n",
       "    </tr>\n",
       "    <tr>\n",
       "      <th>3</th>\n",
       "      <td>3</td>\n",
       "      <td>2</td>\n",
       "      <td>174</td>\n",
       "      <td>0</td>\n",
       "      <td>7</td>\n",
       "      <td>1</td>\n",
       "      <td>2</td>\n",
       "      <td>0</td>\n",
       "      <td>5</td>\n",
       "      <td>1</td>\n",
       "    </tr>\n",
       "    <tr>\n",
       "      <th>4</th>\n",
       "      <td>4</td>\n",
       "      <td>0</td>\n",
       "      <td>111</td>\n",
       "      <td>0</td>\n",
       "      <td>6</td>\n",
       "      <td>1</td>\n",
       "      <td>2</td>\n",
       "      <td>1</td>\n",
       "      <td>4</td>\n",
       "      <td>1</td>\n",
       "    </tr>\n",
       "  </tbody>\n",
       "</table>\n",
       "</div>"
      ],
      "text/plain": [
       "   RID  DX.bl  AGE  PTGENDER  PTEDUCAT  PTETHCAT  PTRACCAT  APOE4  MMSE  \\\n",
       "0    0      0  183         1        12         1         2      1     0   \n",
       "1    1      2   53         1         4         0         2      0     7   \n",
       "2    2      1  109         1        10         1         2      0     9   \n",
       "3    3      2  174         0         7         1         2      0     5   \n",
       "4    4      0  111         0         6         1         2      1     4   \n",
       "\n",
       "   imputed_genotype  \n",
       "0                 1  \n",
       "1                 0  \n",
       "2                 1  \n",
       "3                 1  \n",
       "4                 1  "
      ]
     },
     "execution_count": 55,
     "metadata": {},
     "output_type": "execute_result"
    }
   ],
   "source": [
    "data.head()"
   ]
  },
  {
   "cell_type": "code",
   "execution_count": 51,
   "metadata": {},
   "outputs": [
    {
     "ename": "TypeError",
     "evalue": "'Series' object is not callable",
     "output_type": "error",
     "traceback": [
      "\u001b[0;31m---------------------------------------------------------------------------\u001b[0m",
      "\u001b[0;31mTypeError\u001b[0m                                 Traceback (most recent call last)",
      "\u001b[0;32m<ipython-input-51-1d09ddb0f753>\u001b[0m in \u001b[0;36m<module>\u001b[0;34m()\u001b[0m\n\u001b[0;32m----> 1\u001b[0;31m \u001b[0mage_hist\u001b[0m \u001b[0;34m=\u001b[0m \u001b[0mtrain\u001b[0m\u001b[0;34m.\u001b[0m\u001b[0mAGE\u001b[0m\u001b[0;34m(\u001b[0m\u001b[0mbins\u001b[0m\u001b[0;34m=\u001b[0m\u001b[0;36m15\u001b[0m\u001b[0;34m)\u001b[0m\u001b[0;34m\u001b[0m\u001b[0m\n\u001b[0m\u001b[1;32m      2\u001b[0m \u001b[0;34m\u001b[0m\u001b[0m\n\u001b[1;32m      3\u001b[0m \u001b[0mage_hist\u001b[0m\u001b[0;34m.\u001b[0m\u001b[0mset_xlabel\u001b[0m\u001b[0;34m(\u001b[0m\u001b[0;34m'Age in years'\u001b[0m\u001b[0;34m)\u001b[0m\u001b[0;34m\u001b[0m\u001b[0m\n\u001b[1;32m      4\u001b[0m \u001b[0mage_hist\u001b[0m\u001b[0;34m.\u001b[0m\u001b[0mset_ylabel\u001b[0m\u001b[0;34m(\u001b[0m\u001b[0;34m'Record count'\u001b[0m\u001b[0;34m)\u001b[0m\u001b[0;34m\u001b[0m\u001b[0m\n\u001b[1;32m      5\u001b[0m \u001b[0mage_hist\u001b[0m\u001b[0;34m.\u001b[0m\u001b[0mset_title\u001b[0m\u001b[0;34m(\u001b[0m\u001b[0;34m'Age at time of scan'\u001b[0m\u001b[0;34m,\u001b[0m\u001b[0mfontsize\u001b[0m\u001b[0;34m=\u001b[0m\u001b[0;36m16\u001b[0m\u001b[0;34m)\u001b[0m\u001b[0;34m\u001b[0m\u001b[0m\n",
      "\u001b[0;31mTypeError\u001b[0m: 'Series' object is not callable"
     ]
    }
   ],
   "source": [
    "age_hist = train.AGE(bins=15)\n",
    "\n",
    "age_hist.set_xlabel('Age in years')\n",
    "age_hist.set_ylabel('Record count')\n",
    "age_hist.set_title('Age at time of scan',fontsize=16)"
   ]
  },
  {
   "cell_type": "code",
   "execution_count": null,
   "metadata": {},
   "outputs": [],
   "source": []
  },
  {
   "cell_type": "code",
   "execution_count": null,
   "metadata": {},
   "outputs": [],
   "source": []
  },
  {
   "cell_type": "code",
   "execution_count": null,
   "metadata": {},
   "outputs": [],
   "source": []
  },
  {
   "cell_type": "code",
   "execution_count": null,
   "metadata": {},
   "outputs": [],
   "source": []
  },
  {
   "cell_type": "code",
   "execution_count": null,
   "metadata": {},
   "outputs": [],
   "source": []
  },
  {
   "cell_type": "code",
   "execution_count": null,
   "metadata": {},
   "outputs": [],
   "source": []
  },
  {
   "cell_type": "code",
   "execution_count": null,
   "metadata": {},
   "outputs": [],
   "source": []
  },
  {
   "cell_type": "code",
   "execution_count": null,
   "metadata": {},
   "outputs": [],
   "source": []
  },
  {
   "cell_type": "code",
   "execution_count": null,
   "metadata": {},
   "outputs": [],
   "source": []
  },
  {
   "cell_type": "code",
   "execution_count": null,
   "metadata": {},
   "outputs": [],
   "source": []
  },
  {
   "cell_type": "code",
   "execution_count": null,
   "metadata": {},
   "outputs": [],
   "source": []
  },
  {
   "cell_type": "code",
   "execution_count": null,
   "metadata": {},
   "outputs": [],
   "source": []
  },
  {
   "cell_type": "code",
   "execution_count": null,
   "metadata": {},
   "outputs": [],
   "source": []
  },
  {
   "cell_type": "code",
   "execution_count": null,
   "metadata": {},
   "outputs": [],
   "source": []
  },
  {
   "cell_type": "code",
   "execution_count": null,
   "metadata": {},
   "outputs": [],
   "source": []
  },
  {
   "cell_type": "code",
   "execution_count": null,
   "metadata": {},
   "outputs": [],
   "source": []
  }
 ],
 "metadata": {
  "kernelspec": {
   "display_name": "Python 3",
   "language": "python",
   "name": "python3"
  },
  "language_info": {
   "codemirror_mode": {
    "name": "ipython",
    "version": 3
   },
   "file_extension": ".py",
   "mimetype": "text/x-python",
   "name": "python",
   "nbconvert_exporter": "python",
   "pygments_lexer": "ipython3",
   "version": "3.5.2"
  }
 },
 "nbformat": 4,
 "nbformat_minor": 2
}
